{
 "cells": [
  {
   "cell_type": "code",
   "execution_count": 1,
   "id": "1608a097",
   "metadata": {},
   "outputs": [],
   "source": [
    "import cv2\n",
    "import numpy as np"
   ]
  },
  {
   "cell_type": "code",
   "execution_count": 15,
   "id": "6714e8c3",
   "metadata": {
    "scrolled": true
   },
   "outputs": [
    {
     "data": {
      "text/plain": [
       "array([[[ 64,  96, 161],\n",
       "        [ 52,  84, 149],\n",
       "        [ 47,  79, 144],\n",
       "        ...,\n",
       "        [ 47,  65,  28],\n",
       "        [ 43,  61,  24],\n",
       "        [ 44,  62,  25]],\n",
       "\n",
       "       [[ 48,  78, 143],\n",
       "        [ 34,  65, 128],\n",
       "        [ 32,  63, 126],\n",
       "        ...,\n",
       "        [ 43,  61,  24],\n",
       "        [ 44,  62,  25],\n",
       "        [ 48,  66,  29]],\n",
       "\n",
       "       [[ 54,  82, 146],\n",
       "        [ 37,  66, 127],\n",
       "        [ 27,  56, 117],\n",
       "        ...,\n",
       "        [ 42,  59,  25],\n",
       "        [ 46,  63,  29],\n",
       "        [ 55,  72,  38]],\n",
       "\n",
       "       ...,\n",
       "\n",
       "       [[100, 133, 202],\n",
       "        [107, 140, 209],\n",
       "        [111, 144, 213],\n",
       "        ...,\n",
       "        [ 39,  46,  55],\n",
       "        [ 38,  46,  53],\n",
       "        [ 34,  42,  49]],\n",
       "\n",
       "       [[102, 135, 204],\n",
       "        [108, 141, 210],\n",
       "        [112, 145, 214],\n",
       "        ...,\n",
       "        [ 34,  39,  48],\n",
       "        [ 39,  45,  52],\n",
       "        [ 35,  41,  46]],\n",
       "\n",
       "       [[106, 139, 208],\n",
       "        [106, 139, 208],\n",
       "        [106, 139, 208],\n",
       "        ...,\n",
       "        [ 32,  35,  43],\n",
       "        [ 40,  46,  53],\n",
       "        [ 37,  43,  48]]], dtype=uint8)"
      ]
     },
     "execution_count": 15,
     "metadata": {},
     "output_type": "execute_result"
    }
   ],
   "source": [
    "image_path = \"path_to_your_image.jpg\"\n",
    "image_rgb = cv2.imread('wallpaper2.jpg')\n",
    "image_rgb"
   ]
  },
  {
   "cell_type": "code",
   "execution_count": 14,
   "id": "ed29a1f6",
   "metadata": {},
   "outputs": [
    {
     "data": {
      "text/plain": [
       "array([[ 84, 106, 137, ...,  51,  35,  52],\n",
       "       [ 77,  77,  74, ...,  39,  43,  49],\n",
       "       [ 53,  56,  69, ...,  57,  42,  46],\n",
       "       ...,\n",
       "       [157, 150, 157, ...,  42,  47,  42],\n",
       "       [156, 151, 153, ...,  44,  42,  38],\n",
       "       [157, 149, 152, ...,  45,  41,  62]], dtype=uint8)"
      ]
     },
     "execution_count": 14,
     "metadata": {},
     "output_type": "execute_result"
    }
   ],
   "source": [
    "image_gray = cv2.cvtColor(image_rgb, cv2.COLOR_BGR2GRAY)\n",
    "image_gray"
   ]
  },
  {
   "cell_type": "code",
   "execution_count": 16,
   "id": "7e692a95",
   "metadata": {},
   "outputs": [
    {
     "data": {
      "text/plain": [
       "array([[171, 149, 118, ..., 204, 220, 203],\n",
       "       [178, 178, 181, ..., 216, 212, 206],\n",
       "       [202, 199, 186, ..., 198, 213, 209],\n",
       "       ...,\n",
       "       [ 98, 105,  98, ..., 213, 208, 213],\n",
       "       [ 99, 104, 102, ..., 211, 213, 217],\n",
       "       [ 98, 106, 103, ..., 210, 214, 193]], dtype=uint8)"
      ]
     },
     "execution_count": 16,
     "metadata": {},
     "output_type": "execute_result"
    }
   ],
   "source": [
    "image_inverted = cv2.bitwise_not(image_gray)\n",
    "image_inverted"
   ]
  },
  {
   "cell_type": "code",
   "execution_count": 17,
   "id": "ba4527e6",
   "metadata": {},
   "outputs": [
    {
     "data": {
      "text/plain": [
       "array([[188, 188, 188, ..., 228, 228, 228],\n",
       "       [188, 188, 188, ..., 228, 228, 228],\n",
       "       [188, 188, 188, ..., 228, 228, 228],\n",
       "       ...,\n",
       "       [102, 102, 102, ..., 215, 215, 215],\n",
       "       [102, 102, 102, ..., 215, 215, 215],\n",
       "       [102, 102, 102, ..., 215, 215, 215]], dtype=uint8)"
      ]
     },
     "execution_count": 17,
     "metadata": {},
     "output_type": "execute_result"
    }
   ],
   "source": [
    "image_blurred = cv2.GaussianBlur(image_inverted, (111, 111), 0)\n",
    "image_blurred"
   ]
  },
  {
   "cell_type": "code",
   "execution_count": 6,
   "id": "0f52830e",
   "metadata": {},
   "outputs": [],
   "source": [
    "pencil_sketch = cv2.divide(image_gray, 255 - image_blurred, scale=256.0)"
   ]
  },
  {
   "cell_type": "code",
   "execution_count": 7,
   "id": "b375d231",
   "metadata": {},
   "outputs": [],
   "source": [
    "pencil_sketch = cv2.resize(pencil_sketch, (500, 300))\n",
    "image_rgb = cv2.resize(image_rgb, (500, 300))"
   ]
  },
  {
   "cell_type": "code",
   "execution_count": 12,
   "id": "f8dfa206",
   "metadata": {},
   "outputs": [],
   "source": [
    "cv2.imshow(\"Original Image\", image_rgb)\n",
    "cv2.imshow(\"Pencil Sketch\", pencil_sketch)\n",
    "cv2.waitKey(0)\n",
    "cv2.destroyAllWindows()"
   ]
  },
  {
   "cell_type": "code",
   "execution_count": 13,
   "id": "8edfdec8",
   "metadata": {},
   "outputs": [
    {
     "data": {
      "text/plain": [
       "True"
      ]
     },
     "execution_count": 13,
     "metadata": {},
     "output_type": "execute_result"
    }
   ],
   "source": [
    "output_path = \"pencil_sketch.jpg\"\n",
    "cv2.imwrite(output_path, pencil_sketch)"
   ]
  },
  {
   "cell_type": "code",
   "execution_count": null,
   "id": "f6236d4c",
   "metadata": {},
   "outputs": [],
   "source": []
  },
  {
   "cell_type": "code",
   "execution_count": null,
   "id": "4d48904f",
   "metadata": {},
   "outputs": [],
   "source": []
  }
 ],
 "metadata": {
  "kernelspec": {
   "display_name": "Python 3 (ipykernel)",
   "language": "python",
   "name": "python3"
  },
  "language_info": {
   "codemirror_mode": {
    "name": "ipython",
    "version": 3
   },
   "file_extension": ".py",
   "mimetype": "text/x-python",
   "name": "python",
   "nbconvert_exporter": "python",
   "pygments_lexer": "ipython3",
   "version": "3.10.9"
  }
 },
 "nbformat": 4,
 "nbformat_minor": 5
}
